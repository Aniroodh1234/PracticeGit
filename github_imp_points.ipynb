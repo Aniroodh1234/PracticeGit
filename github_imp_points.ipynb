{
 "cells": [
  {
   "cell_type": "markdown",
   "id": "60507565",
   "metadata": {},
   "source": [
    "#### Git-hub -- its a platform where we host our code to people\n",
    "Store our code online (in the cloud)\n",
    "\n",
    "Collaborate with others \n",
    "\n",
    "Showcase our projects to the world\n",
    "\n",
    "Open-source stuff, report bugs, raise pull requests\n",
    "\n",
    "#### git -- its a tool/softwware that performs version control on our computer.\n",
    " smart tracker of every change you make in your code"
   ]
  },
  {
   "cell_type": "markdown",
   "id": "582d3348",
   "metadata": {},
   "source": [
    "#### git branch \n",
    "A Git branch is like a separate workspace in your project. It allows you to work on new features or make changes without affecting the main project (usually called the \"main\" or \"master\" branch). Think of it as a parallel universe for your code, where you can experiment and develop new ideas before merging them back into the main project. \n",
    "\n",
    "#### Why Use Branches?\n",
    "#### I want to experiment without breaking the live project\n",
    "#### I am working on a new feature or fixing a bug\n",
    "\n"
   ]
  },
  {
   "cell_type": "markdown",
   "id": "31a03a25",
   "metadata": {},
   "source": [
    "#### whenever a files is initialized firstly it is in unstaged/untracked [U] area then we use git add to make those files tracked by git/ we are moving those files to the staging area [A]"
   ]
  },
  {
   "cell_type": "markdown",
   "id": "c7b51516",
   "metadata": {},
   "source": [
    "#### steps :-\n",
    "#### 1) git init \n",
    "-- Initializes a new Git repository in your current directory.\n",
    "\n",
    "-- It creates a hidden .git/ folder where Git stores all its tracking data (commits, branches, etc.).\n",
    "\n",
    "-- Now, this folder is officially a Git project. Initially a U symbol is there which means untracked files. Means git has not tracked those files till yet.\n",
    "\n",
    "#### 2) git add README.md (readme.md is just example we can add any file we want)\n",
    "-- adds the file README.md to the staging area. That is a A will appear it means git has started tracking those files\n",
    "\n",
    "-- for bulk adding or adding all file at instance we can use git add .\n",
    "\n",
    "#### 3) git commit -m \"first commit\"\n",
    "-- it commit the tracked files  and gives a message using -m. This message will tell people that what i have done inside this coding file.\n",
    "\n",
    "#### 4) git branch -M main\n",
    "-- we are always at the master branch. Just a general notion that we developers always want a main branch so we are changing it. Not mandatory.\n",
    "Main is the branch which we will push from our system hence we will call it local main branch\n",
    "\n",
    "\n",
    "#### 5) git remote add origin https://github.com/Aniroodh1234/PracticeGit.git\n",
    "-- remote repo: a remote repository is a version of your codebase that's hosted online (like on GitHub, GitLab, or Bitbucket)\n",
    "\n",
    "-- so remote repo is always create on github and we are naming it as origin with url https://github.com/Aniroodh1234/PracticeGit.git. We are doing it for ease of naming, nobody wants a big url to give as a name.\n",
    "\n",
    "\n",
    "\n",
    "#### 6) git push -u origin main\n",
    "-- git push work:- send all files from your local machine → to GitHub (remote repository).\n",
    "\n",
    "-- so here we are saying that push my local branch to the main branch of github remote repo that is origin with url https://github.com/Aniroodh1234/PracticeGit.git.\n",
    "\n",
    "-- -u :set upstream tracking --- It links your local branch (main) to the remote branch (origin/main), so Git remembers where to push/pull from in the future. it makes push and pull of codes easier\n",
    "\n",
    "-- without -u :- git push -u origin main we need to write this repeatedly\n",
    "\n",
    "-- with -u :- we write git push -u origin main once then always we write git push. So basicaslly it remembers my local rpo main and my remote remo origin location \n",
    "\n",
    "-- so easily we can pull the codes whenever require \n",
    "\n"
   ]
  },
  {
   "cell_type": "markdown",
   "id": "ae6fc023",
   "metadata": {},
   "source": [
    "#### Branching concept in git\n",
    "#### always developers extract code from main branch and do some modifications in the newly created branch. Once they perform the development those new branch will get merged with the main branch and all changes will be saved.\n",
    "\n",
    "#### main branch creation --> git branch -M Main\n",
    "#### new branch creation --> gti branch new_branch\n",
    "#### branch shifting from main branch --> git checkout new_branch\n",
    "#### merging of new branch to main --> git merge new_branch\n",
    "#### deleting newly created branch --> git branch -d new_branch"
   ]
  }
 ],
 "metadata": {
  "language_info": {
   "name": "python"
  }
 },
 "nbformat": 4,
 "nbformat_minor": 5
}
